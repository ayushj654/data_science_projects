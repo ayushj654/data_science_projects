{
 "cells": [
  {
   "cell_type": "code",
   "execution_count": 1,
   "metadata": {
    "colab": {
     "base_uri": "https://localhost:8080/"
    },
    "id": "q3_V1PX4k1Ti",
    "outputId": "eab9aedf-7b20-48ab-e049-6357f965464c"
   },
   "outputs": [],
   "source": [
    "#!pip install torch"
   ]
  },
  {
   "cell_type": "markdown",
   "metadata": {
    "id": "xdzmshS7DjgA"
   },
   "source": []
  },
  {
   "cell_type": "code",
   "execution_count": 3,
   "metadata": {
    "id": "Etxh5yRJDVQL"
   },
   "outputs": [],
   "source": [
    "path =r'https://raw.githubusercontent.com/ayushj654/Hangman_RL_cuda/main/words_250000_train.txt'\n"
   ]
  },
  {
   "cell_type": "code",
   "execution_count": 16,
   "metadata": {},
   "outputs": [
    {
     "name": "stderr",
     "output_type": "stream",
     "text": [
      "'grep' is not recognized as an internal or external command,\n",
      "operable program or batch file.\n"
     ]
    }
   ],
   "source": []
  },
  {
   "cell_type": "code",
   "execution_count": 1,
   "metadata": {
    "id": "rxkzqMbV_8mJ"
   },
   "outputs": [],
   "source": [
    "\n",
    "import math\n",
    "import random\n",
    "import matplotlib\n",
    "import matplotlib.pyplot as plt\n",
    "from collections import namedtuple, deque\n",
    "from itertools import count\n",
    "import pandas as pd\n",
    "import torch\n",
    "import torch.nn as nn\n",
    "import torch.optim as optim\n",
    "import torch.nn.functional as F\n",
    "import string\n",
    "import numpy as np\n",
    "\n",
    "# set up matplotlib\n",
    "is_ipython = 'inline' in matplotlib.get_backend()\n",
    "if is_ipython:\n",
    "    from IPython import display\n",
    "\n",
    "plt.ion()\n",
    "\n",
    "# if GPU is to be used\n",
    "device = torch.device(\"cuda\" if torch.cuda.is_available() else \"cpu\")\n"
   ]
  },
  {
   "cell_type": "code",
   "execution_count": 2,
   "metadata": {},
   "outputs": [
    {
     "data": {
      "text/plain": [
       "device(type='cuda')"
      ]
     },
     "execution_count": 2,
     "metadata": {},
     "output_type": "execute_result"
    }
   ],
   "source": [
    "device"
   ]
  },
  {
   "cell_type": "code",
   "execution_count": 4,
   "metadata": {},
   "outputs": [
    {
     "name": "stdout",
     "output_type": "stream",
     "text": [
      "Looking in links: https://download.pytorch.org/whl/cu12.2/torch_stable.html\n",
      "Requirement already satisfied: torch in c:\\users\\data science den\\anaconda3\\lib\\site-packages (2.0.1)\n",
      "Collecting torchvision\n",
      "  Downloading torchvision-0.15.2-cp311-cp311-win_amd64.whl (1.2 MB)\n",
      "     ---------------------------------------- 0.0/1.2 MB ? eta -:--:--\n",
      "     ------ --------------------------------- 0.2/1.2 MB 5.9 MB/s eta 0:00:01\n",
      "     --------------------- ------------------ 0.7/1.2 MB 8.3 MB/s eta 0:00:01\n",
      "     ---------------------------------------  1.2/1.2 MB 9.4 MB/s eta 0:00:01\n",
      "     ---------------------------------------- 1.2/1.2 MB 8.4 MB/s eta 0:00:00\n",
      "Collecting torchaudio\n",
      "  Downloading torchaudio-2.0.2-cp311-cp311-win_amd64.whl (2.1 MB)\n",
      "     ---------------------------------------- 0.0/2.1 MB ? eta -:--:--\n",
      "     -------- ------------------------------- 0.5/2.1 MB 14.2 MB/s eta 0:00:01\n",
      "     --------------- ------------------------ 0.8/2.1 MB 13.0 MB/s eta 0:00:01\n",
      "     ---------------------- ----------------- 1.2/2.1 MB 10.6 MB/s eta 0:00:01\n",
      "     --------------------------- ------------ 1.5/2.1 MB 10.4 MB/s eta 0:00:01\n",
      "     -------------------------------- ------- 1.8/2.1 MB 8.6 MB/s eta 0:00:01\n",
      "     ---------------------------------------  2.1/2.1 MB 7.9 MB/s eta 0:00:01\n",
      "     ---------------------------------------- 2.1/2.1 MB 8.0 MB/s eta 0:00:00\n",
      "Requirement already satisfied: filelock in c:\\users\\data science den\\anaconda3\\lib\\site-packages (from torch) (3.9.0)\n",
      "Requirement already satisfied: typing-extensions in c:\\users\\data science den\\anaconda3\\lib\\site-packages (from torch) (4.7.1)\n",
      "Requirement already satisfied: sympy in c:\\users\\data science den\\anaconda3\\lib\\site-packages (from torch) (1.11.1)\n",
      "Requirement already satisfied: networkx in c:\\users\\data science den\\anaconda3\\lib\\site-packages (from torch) (3.1)\n",
      "Requirement already satisfied: jinja2 in c:\\users\\data science den\\anaconda3\\lib\\site-packages (from torch) (3.1.2)\n",
      "Requirement already satisfied: numpy in c:\\users\\data science den\\anaconda3\\lib\\site-packages (from torchvision) (1.24.3)\n",
      "Requirement already satisfied: requests in c:\\users\\data science den\\anaconda3\\lib\\site-packages (from torchvision) (2.31.0)\n",
      "Requirement already satisfied: pillow!=8.3.*,>=5.3.0 in c:\\users\\data science den\\anaconda3\\lib\\site-packages (from torchvision) (9.4.0)\n",
      "Requirement already satisfied: MarkupSafe>=2.0 in c:\\users\\data science den\\anaconda3\\lib\\site-packages (from jinja2->torch) (2.1.1)\n",
      "Requirement already satisfied: charset-normalizer<4,>=2 in c:\\users\\data science den\\anaconda3\\lib\\site-packages (from requests->torchvision) (2.0.4)\n",
      "Requirement already satisfied: idna<4,>=2.5 in c:\\users\\data science den\\anaconda3\\lib\\site-packages (from requests->torchvision) (3.4)\n",
      "Requirement already satisfied: urllib3<3,>=1.21.1 in c:\\users\\data science den\\anaconda3\\lib\\site-packages (from requests->torchvision) (1.26.16)\n",
      "Requirement already satisfied: certifi>=2017.4.17 in c:\\users\\data science den\\anaconda3\\lib\\site-packages (from requests->torchvision) (2023.7.22)\n",
      "Requirement already satisfied: mpmath>=0.19 in c:\\users\\data science den\\anaconda3\\lib\\site-packages (from sympy->torch) (1.3.0)\n",
      "Installing collected packages: torchvision, torchaudio\n",
      "Successfully installed torchaudio-2.0.2 torchvision-0.15.2\n"
     ]
    }
   ],
   "source": [
    "#!pip install torch torchvision torchaudio -f https://download.pytorch.org/whl/cu12.2/torch_stable.html"
   ]
  },
  {
   "cell_type": "code",
   "execution_count": 4,
   "metadata": {
    "id": "j3gtm6ExDba6"
   },
   "outputs": [],
   "source": [
    "wordlist = pd.read_table(path,header=None)\n",
    "word_list = wordlist[0].to_list()"
   ]
  },
  {
   "cell_type": "code",
   "execution_count": 5,
   "metadata": {
    "id": "onmjDoC4ACg3"
   },
   "outputs": [],
   "source": [
    "Transition = namedtuple('Transition',\n",
    "                        ('state', 'action', 'next_state', 'reward'))\n",
    "\n",
    "\n",
    "class ReplayMemory(object):\n",
    "\n",
    "    def __init__(self, capacity):\n",
    "        self.memory = deque([], maxlen=capacity)\n",
    "\n",
    "    def push(self, *args):\n",
    "        \"\"\"Save a transition\"\"\"\n",
    "        self.memory.append(Transition(*args))\n",
    "\n",
    "    def sample(self, batch_size):\n",
    "        return random.sample(self.memory, batch_size)\n",
    "\n",
    "    def __len__(self):\n",
    "        return len(self.memory)"
   ]
  },
  {
   "cell_type": "code",
   "execution_count": 6,
   "metadata": {
    "colab": {
     "base_uri": "https://localhost:8080/"
    },
    "id": "KjUsxP7bAgXV",
    "outputId": "f562b7c5-672f-44e3-f241-005131c652a0"
   },
   "outputs": [
    {
     "data": {
      "text/plain": [
       "device(type='cuda')"
      ]
     },
     "execution_count": 6,
     "metadata": {},
     "output_type": "execute_result"
    }
   ],
   "source": [
    "device"
   ]
  },
  {
   "cell_type": "code",
   "execution_count": null,
   "metadata": {
    "id": "oWNilDsrAWeO"
   },
   "outputs": [],
   "source": []
  },
  {
   "cell_type": "code",
   "execution_count": 15,
   "metadata": {
    "id": "MuhjW1IwAGTz"
   },
   "outputs": [],
   "source": [
    "class DQN(nn.Module):\n",
    "\n",
    "    def __init__(self, n_observations, n_actions):\n",
    "        super(DQN, self).__init__()\n",
    "        self.layer1 = nn.Linear(n_observations, 26)\n",
    "        self.layer2 = nn.Linear(26, 32)\n",
    "        self.layer3 = nn.Linear(32, 32)\n",
    "        self.layer4 = nn.Linear(32, 26)\n",
    "        self.layer5 = nn.Linear(26, n_actions)\n",
    "\n",
    "    # Called with either one element to determine next action, or a batch\n",
    "    # during optimization. Returns tensor([[left0exp,right0exp]...]).\n",
    "    def forward(self, x):\n",
    "        x = F.relu(self.layer1(x))\n",
    "        x = F.relu(self.layer2(x))\n",
    "        x = F.relu(self.layer3(x))\n",
    "        x = F.relu(self.layer4(x))\n",
    "        x=F.softmax(self.layer5(x),dim=1)\n",
    "        return x"
   ]
  },
  {
   "cell_type": "code",
   "execution_count": 16,
   "metadata": {
    "id": "_IPnQYtqHD5c"
   },
   "outputs": [],
   "source": [
    "def word_to_state(word):\n",
    "  state = np.zeros(26)\n",
    "  for i in range(len(word)):\n",
    "      if word[i] in ('_',\" \"):\n",
    "          continue\n",
    "      state[ord(word[i])-97] += 1\n",
    "  return state"
   ]
  },
  {
   "cell_type": "code",
   "execution_count": 17,
   "metadata": {
    "id": "RPuFyjkiALoU"
   },
   "outputs": [],
   "source": [
    "# BATCH_SIZE is the number of transitions sampled from the replay buffer\n",
    "# GAMMA is the discount factor as mentioned in the previous section\n",
    "# EPS_START is the starting value of epsilon\n",
    "# EPS_END is the final value of epsilon\n",
    "# EPS_DECAY controls the rate of exponential decay of epsilon, higher means a slower decay\n",
    "# TAU is the update rate of the target network\n",
    "# LR is the learning rate of the ``AdamW`` optimizer\n",
    "BATCH_SIZE = 64\n",
    "GAMMA = 0.99\n",
    "EPS_START = 0.99\n",
    "EPS_END = 0.05\n",
    "EPS_DECAY = 500\n",
    "TAU = 0.01\n",
    "LR = 0.01\n",
    "\n",
    "# Get number of actions from gym action space\n",
    "n_actions = 26\n",
    "# Get the number of state observations\n",
    "state=[0]*26\n",
    "n_observations = len(state)\n",
    "\n",
    "policy_net = DQN(n_observations, n_actions).to(device)\n",
    "target_net = DQN(n_observations, n_actions).to(device)\n",
    "target_net.load_state_dict(policy_net.state_dict())\n",
    "\n",
    "optimizer = optim.AdamW(policy_net.parameters(), lr=LR, amsgrad=True)\n",
    "memory = ReplayMemory(10000)\n",
    "\n",
    "\n",
    "steps_done = 0\n",
    "\n",
    "\n",
    "def select_action(state):\n",
    "    global steps_done\n",
    "    sample = random.random()\n",
    "    eps_threshold = EPS_END + (EPS_START - EPS_END) * \\\n",
    "        math.exp(-1. * steps_done / EPS_DECAY)\n",
    "    steps_done += 1\n",
    "    if sample > eps_threshold:\n",
    "        with torch.no_grad():\n",
    "            # t.max(1) will return the largest column value of each row.\n",
    "            # second column on max result is index of where max element was\n",
    "            # found, so we pick action with the larger expected reward.\n",
    " #           x= policy_net(state).max(1)[1].view(1, 1)\n",
    "            x= policy_net(state)\n",
    "            #print(\"nn output action\",policy_net(state))\n",
    "            return x\n",
    "    else:\n",
    "       # print('random')\n",
    "        x= torch.tensor(word_to_state(random.choice(list(string.ascii_lowercase))).reshape(1,-1), device=device, dtype=torch.long)\n",
    "        #print('random =====>',x.size())\n",
    "        return x\n",
    "\n",
    "\n",
    "score = []\n",
    "\n",
    "\n",
    "def plot_rewards(show_result=False):\n",
    "    plt.figure(1)\n",
    "    durations_t = torch.tensor(score, dtype=torch.float)\n",
    "    if show_result:\n",
    "        plt.title('Result')\n",
    "    else:\n",
    "        plt.clf()\n",
    "        plt.title('Training...')\n",
    "    plt.xlabel('Episode')\n",
    "    plt.ylabel('%words completed')\n",
    "    plt.plot(durations_t.numpy())\n",
    "    # Take 100 episode averages and plot them too\n",
    "    if len(durations_t) >= 100:\n",
    "        means = durations_t.unfold(0, 100, 1).mean(1).view(-1)\n",
    "        means = torch.cat((torch.zeros(99), means))\n",
    "        plt.plot(means.numpy())\n",
    "\n",
    "    plt.pause(0.001)  # pause a bit so that plots are updated\n",
    "    if is_ipython:\n",
    "        if not show_result:\n",
    "            display.display(plt.gcf())\n",
    "            display.clear_output(wait=True)\n",
    "        else:\n",
    "            display.display(plt.gcf())"
   ]
  },
  {
   "cell_type": "code",
   "execution_count": 18,
   "metadata": {
    "colab": {
     "base_uri": "https://localhost:8080/"
    },
    "id": "DSrZYiKVc8lE",
    "outputId": "8a268890-6d67-4ae3-c6ea-d82f5adf736c"
   },
   "outputs": [
    {
     "data": {
      "text/plain": [
       "array([0., 0., 0., 1., 0., 0., 0., 0., 0., 0., 0., 0., 0., 0., 0., 0., 0.,\n",
       "       0., 0., 0., 0., 0., 0., 0., 0., 0.])"
      ]
     },
     "execution_count": 18,
     "metadata": {},
     "output_type": "execute_result"
    }
   ],
   "source": [
    "word_to_state(random.choice(list(string.ascii_lowercase)))"
   ]
  },
  {
   "cell_type": "code",
   "execution_count": 19,
   "metadata": {
    "id": "ABShoE8mAMiK"
   },
   "outputs": [],
   "source": [
    "def optimize_model():\n",
    "    if len(memory) < BATCH_SIZE:\n",
    "        return\n",
    "    transitions = memory.sample(BATCH_SIZE)\n",
    "    # Transpose the batch (see https://stackoverflow.com/a/19343/3343043 for\n",
    "    # detailed explanation). This converts batch-array of Transitions\n",
    "    # to Transition of batch-arrays.\n",
    "    batch = Transition(*zip(*transitions))\n",
    "    # Compute a mask of non-final states and concatenate the batch elements\n",
    "    # (a final state would've been the one after which simulation ended)\n",
    "    non_final_mask = torch.tensor(tuple(map(lambda s: s is not None,\n",
    "                                          batch.next_state)), device=device, dtype=torch.bool)\n",
    "    non_final_next_states = torch.cat([s for s in batch.next_state\n",
    "                                                if s is not None])\n",
    "    #print(\"non final mask====>\",non_final_mask)\n",
    "    #print(\"non_final_next_states===>\",non_final_next_states)\n",
    "\n",
    "    #print(\"State batch before===>\",batch.state)\n",
    "    state_batch = torch.cat(batch.state)\n",
    "    #print(\"State batch===>\",state_batch)\n",
    "   # print(\"Action batchj Max arg=====>\",torch.argmax(batch.action))\n",
    "    #print(\"Action batch before=====>\",batch.action)\n",
    "    #action_batch_tuple = tuple(tensor.view(1, -1) for tensor in batch.action)\n",
    "    action_batch = torch.cat(batch.action)\n",
    "    #print(\"Action batch =====>\",action_batch)\n",
    "    #print(\"Reward batch =====>\",batch.reward)\n",
    "    reward_batch = torch.cat(batch.reward)\n",
    "    #print(\"Reward batch =====>\",reward_batch)\n",
    "    # Compute Q(s_t, a) - the model computes Q(s_t), then we select the\n",
    "    # columns of actions taken. These are the actions which would've been taken\n",
    "    # for each batch state according to policy_net\n",
    "    #chk = policy_net(state_batch)\n",
    "    #print(\"output tensor ====>\",chk)\n",
    "    #print(\"gathering ====>\",chk.gather(1,torch.tensor([3]*chk.size()[1],device=device)))\n",
    "    #state_action_values = chk.gather(1, action_batch)\n",
    "    #print(action_batch.unsqueeze(1))\n",
    "\n",
    "    #index_tensor = torch.tensor([tensor for tensor in action_batch],device=device)\n",
    "    #print(\"getting index of max of each tensor\",index_tensor)\n",
    "    state_action_values=policy_net(state_batch).gather(1,torch.argmax(action_batch,dim=1).unsqueeze(1))\n",
    "    #print(\"state_action_values=====>\",state_action_values)\n",
    "    # Compute V(s_{t+1}) for all next states.\n",
    "    # Expected values of actions for non_final_next_states are computed based\n",
    "    # on the \"older\" target_net; selecting their best reward with max(1)[0].\n",
    "    # This is merged based on the mask, such that we'll have either the expected\n",
    "    # state value or 0 in case the state was final.\n",
    "    #print(\"target\",target_net(non_final_next_states))\n",
    "    next_state_values = torch.zeros(BATCH_SIZE, device=device)\n",
    "    #print(\"next_state_values =====>\",next_state_values)\n",
    "    #print(\"target_net(non_final_next_states). ======>\",target_net(non_final_next_states))\n",
    "    #print(\"target_net(non_final_next_states).max(1) =======>\",target_net(non_final_next_states).max(1))\n",
    "    #print(\"target_net(non_final_next_states).max(1)[0] =======>\",target_net(non_final_next_states).max(1)[0])\n",
    "    #print(\"next_state_values[non_final_mask] ======>\",next_state_values[non_final_mask])\n",
    "    with torch.no_grad():\n",
    "        next_state_values[non_final_mask] = target_net(non_final_next_states).max(1)[0]\n",
    "    #print(\"next_state_values=====>\",next_state_values*GAMMA)\n",
    "    # Compute the expected Q values\n",
    "    expected_state_action_values = (next_state_values * GAMMA) + reward_batch\n",
    "    #print(\"expected_state_action_values====>\",expected_state_action_values)\n",
    "    # Compute Huber loss\n",
    "    criterion = nn.SmoothL1Loss()\n",
    "    #print(\"state_action_values ======>\",state_action_values)\n",
    "    #print(\"expected_state_action_values ======>\",expected_state_action_values.unsqueeze(1))\n",
    "    loss = criterion(state_action_values, expected_state_action_values.unsqueeze(1))\n",
    "    #print(loss)\n",
    "    # Optimize the model\n",
    "    optimizer.zero_grad()\n",
    "    loss.backward()\n",
    "    # In-place gradient clipping\n",
    "    torch.nn.utils.clip_grad_value_(policy_net.parameters(), 100)\n",
    "    optimizer.step()"
   ]
  },
  {
   "cell_type": "code",
   "execution_count": 20,
   "metadata": {
    "colab": {
     "base_uri": "https://localhost:8080/"
    },
    "id": "XXyKFqB2rIeh",
    "outputId": "86c7f555-cd13-4daf-d9c9-725c7ad8afa6"
   },
   "outputs": [
    {
     "data": {
      "text/plain": [
       "tensor(4, device='cuda:0')"
      ]
     },
     "execution_count": 20,
     "metadata": {},
     "output_type": "execute_result"
    }
   ],
   "source": [
    "input = torch.tensor([[0., -1., 2., 8.],[16., -1., 2., 8.]],device=device)\n",
    "torch.argmax(input)"
   ]
  },
  {
   "cell_type": "code",
   "execution_count": 21,
   "metadata": {
    "colab": {
     "base_uri": "https://localhost:8080/"
    },
    "id": "omQGW-faE1z8",
    "outputId": "12ea3e37-f121-4b32-ce84-69643836b470"
   },
   "outputs": [
    {
     "name": "stdout",
     "output_type": "stream",
     "text": [
      "-1\n"
     ]
    }
   ],
   "source": [
    "trials = -2\n",
    "curr = 'ball'\n",
    "tgt ='b_ll'\n",
    "print((curr==tgt)*1 if trials>0 else -1)"
   ]
  },
  {
   "cell_type": "code",
   "execution_count": 22,
   "metadata": {
    "colab": {
     "base_uri": "https://localhost:8080/",
     "height": 526
    },
    "id": "6VetuM4eAQgX",
    "outputId": "e0860259-bf31-4b15-c2e8-2b017cd4994c"
   },
   "outputs": [
    {
     "name": "stdout",
     "output_type": "stream",
     "text": [
      "Complete\n"
     ]
    },
    {
     "data": {
      "image/png": "[encoded data removed]",
      "text/plain": [
       "<Figure size 640x480 with 1 Axes>"
      ]
     },
     "metadata": {},
     "output_type": "display_data"
    },
    {
     "data": {
      "text/plain": [
       "<Figure size 640x480 with 0 Axes>"
      ]
     },
     "metadata": {},
     "output_type": "display_data"
    },
    {
     "data": {
      "text/plain": [
       "<Figure size 640x480 with 0 Axes>"
      ]
     },
     "metadata": {},
     "output_type": "display_data"
    }
   ],
   "source": [
    "if torch.cuda.is_available():\n",
    "    num_episodes = 500\n",
    "else:\n",
    "    num_episodes = 8\n",
    "\n",
    "a=random.sample(range(0,len(word_list)),num_episodes)\n",
    "wordlist1=[word_list[i] for i in a]\n",
    "\n",
    "def reward_value(word):\n",
    "    count = 0\n",
    "    for w in word:\n",
    "        if w.isalpha():\n",
    "            count+=1\n",
    "    return count/len(word)\n",
    "\n",
    "\n",
    "def env(tgt,curr,action,trials):\n",
    "  act_letter = chr(torch.argmax(action).item()+97)\n",
    "  #print(torch.argmax(action),\"====\",torch.argmax(action).item(),\"   \",act_letter)\n",
    "  prev_rew=reward_value(curr)\n",
    "  if act_letter in tgt:\n",
    "    for i in range(len(tgt)):\n",
    "      if tgt[i] == act_letter:\n",
    "        curr= curr[:i]+act_letter+curr[i+1:]\n",
    "    else:\n",
    "      trials-=1\n",
    "  return curr,(((reward_value(curr)>prev_rew)*reward_value(curr)*5)+((curr==tgt)*10))*(trials>0)+(trials<=0)*-1,curr==tgt,trials<=0,trials\n",
    "\n",
    "\n",
    "for i_episode in range(num_episodes):\n",
    "    trial_left = 6\n",
    "    tgt_wrd = wordlist1[i_episode]\n",
    "    # Initialize the environment and get it's state\n",
    "    curr = '_'*len(tgt_wrd)\n",
    "    state = torch.tensor([0]*26, dtype=torch.float32, device=device).unsqueeze(0)\n",
    "    for t in count():\n",
    "  #      state = torch.tensor(word_to_state(curr), dtype=torch.float32, device=device).unsqueeze(0)\n",
    "        action = select_action(state)\n",
    "        #print(\"select action====>\",action)\n",
    "\n",
    "        observation, reward, terminated, truncated,trial_left = env(tgt_wrd,curr,action,trial_left)\n",
    "        reward = torch.tensor([reward], device=device)\n",
    "        done = terminated or truncated\n",
    "\n",
    "        if terminated:\n",
    "            next_state = None\n",
    "        else:\n",
    "            next_state = torch.tensor(word_to_state(observation), dtype=torch.float32, device=device).unsqueeze(0)\n",
    "        #print(\"state=====>\",state)\n",
    "        #print(\"next state=====>\",next_state)\n",
    "        # Store the transition in memory\n",
    "        memory.push(state, action, next_state, reward)\n",
    "\n",
    "        # Move to the next state\n",
    "        state = next_state\n",
    "\n",
    "        # Perform one step of the optimization (on the policy network)\n",
    "        optimize_model()\n",
    "\n",
    "        # Soft update of the target network's weights\n",
    "        # θ′ ← τ θ + (1 −τ )θ′\n",
    "        target_net_state_dict = target_net.state_dict()\n",
    "        policy_net_state_dict = policy_net.state_dict()\n",
    "        for key in policy_net_state_dict:\n",
    "            target_net_state_dict[key] = policy_net_state_dict[key]*TAU + target_net_state_dict[key]*(1-TAU)\n",
    "        target_net.load_state_dict(target_net_state_dict)\n",
    "\n",
    "        if done:\n",
    "            #print(observation)\n",
    "            score.append(reward_value(observation))\n",
    "            plot_rewards()\n",
    "            break\n",
    "\n",
    "print('Complete')\n",
    "plot_rewards(show_result=True)\n",
    "plt.ioff()\n",
    "plt.show()"
   ]
  },
  {
   "cell_type": "code",
   "execution_count": null,
   "metadata": {
    "colab": {
     "base_uri": "https://localhost:8080/"
    },
    "id": "bHfXCDJ6sCGZ",
    "outputId": "504cda82-474b-45dc-a132-84f9e357f933"
   },
   "outputs": [
    {
     "data": {
      "text/plain": [
       "0.1623802449184802"
      ]
     },
     "execution_count": 15,
     "metadata": {},
     "output_type": "execute_result"
    }
   ],
   "source": [
    "np.mean(score)"
   ]
  },
  {
   "cell_type": "code",
   "execution_count": null,
   "metadata": {
    "colab": {
     "base_uri": "https://localhost:8080/"
    },
    "id": "8jZoqQJcwjmO",
    "outputId": "8007afdb-f8cd-4b82-a0d2-2d6367ee2728"
   },
   "outputs": [
    {
     "data": {
      "text/plain": [
       "[Transition(state=tensor([[0., 0., 0., 0., 0., 0., 0., 0., 0., 0., 0., 0., 0., 0., 0., 0., 0., 0., 0., 0., 0., 0., 0., 0.,\n",
       "          0., 0.]], device='cuda:0'), action=tensor([[1.4197e-05, 2.2695e-05, 2.3632e-02, 6.8648e-04, 9.5331e-01, 7.6646e-06,\n",
       "          8.4535e-06, 3.3272e-04, 2.4283e-04, 2.1577e-05, 9.2335e-05, 1.3108e-02,\n",
       "          6.6969e-06, 9.4070e-05, 7.9961e-06, 5.3868e-05, 1.8746e-03, 3.7577e-05,\n",
       "          5.4067e-03, 8.7436e-05, 9.9854e-05, 1.7533e-04, 5.8173e-04, 2.8410e-05,\n",
       "          5.6171e-05, 1.0463e-05]], device='cuda:0'), next_state=tensor([[0., 0., 0., 0., 0., 0., 0., 0., 0., 0., 0., 0., 0., 0., 0., 0., 0., 0., 0., 0., 0., 0., 0., 0.,\n",
       "          0., 0.]], device='cuda:0'), reward=tensor([0.], device='cuda:0'))]"
      ]
     },
     "execution_count": 16,
     "metadata": {},
     "output_type": "execute_result"
    }
   ],
   "source": [
    "memory.sample(1)"
   ]
  },
  {
   "cell_type": "code",
   "execution_count": null,
   "metadata": {
    "id": "fkGwya9JeBWH"
   },
   "outputs": [],
   "source": []
  }
 ],
 "metadata": {
  "accelerator": "GPU",
  "colab": {
   "gpuType": "T4",
   "provenance": []
  },
  "kernelspec": {
   "display_name": "Python 3 (ipykernel)",
   "language": "python",
   "name": "python3"
  },
  "language_info": {
   "codemirror_mode": {
    "name": "ipython",
    "version": 3
   },
   "file_extension": ".py",
   "mimetype": "text/x-python",
   "name": "python",
   "nbconvert_exporter": "python",
   "pygments_lexer": "ipython3",
   "version": "3.12.2"
  }
 },
 "nbformat": 4,
 "nbformat_minor": 1
}
